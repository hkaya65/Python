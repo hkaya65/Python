{
 "cells": [
  {
   "cell_type": "markdown",
   "metadata": {},
   "source": [
    "# Functions\n",
    "\n"
   ]
  },
  {
   "cell_type": "markdown",
   "metadata": {},
   "source": [
    "## What will we cover today?\n",
    "\n",
    "* what are the functions in programming?\n",
    "* how to write a func?\n",
    "* types of funcs?\n",
    "* examples\n",
    "* assingments"
   ]
  },
  {
   "cell_type": "markdown",
   "metadata": {},
   "source": [
    "## What are the functions in programming?\n",
    "\n",
    "Functions are a convenient way to divide your code into useful blocks, allowing us to order our code, make it more readable, reuse it and save some time. Also functions are a key way to define interfaces so programmers can share their code.\n"
   ]
  },
  {
   "cell_type": "markdown",
   "metadata": {},
   "source": [
    "## How to write a func?\n",
    "\n",
    "* Functions in python are defined using the block keyword \"def\", followed with the function's name as the block's name.\n",
    "\n",
    "For example:"
   ]
  },
  {
   "cell_type": "code",
   "execution_count": null,
   "metadata": {},
   "outputs": [],
   "source": [
    "def my_function():\n",
    "    print(\"Hello From My Function!\")\n",
    "    "
   ]
  },
  {
   "cell_type": "markdown",
   "metadata": {},
   "source": [
    "* Functions may also receive arguments (variables passed from the caller to the function). \n",
    "\n",
    "For example:"
   ]
  },
  {
   "cell_type": "code",
   "execution_count": null,
   "metadata": {},
   "outputs": [],
   "source": [
    "def my_function_with_args(username, greeting):\n",
    "    print(\"Hello, %s , From My Function!, I wish you %s\"%(username, greeting))\n",
    "    "
   ]
  },
  {
   "cell_type": "markdown",
   "metadata": {},
   "source": [
    "* Functions may return a value to the caller, using the keyword- 'return' . \n",
    "\n",
    "For example:"
   ]
  },
  {
   "cell_type": "code",
   "execution_count": null,
   "metadata": {},
   "outputs": [],
   "source": [
    "def sum_two_numbers(a, b):\n",
    "    return a + b\n"
   ]
  },
  {
   "cell_type": "markdown",
   "metadata": {},
   "source": [
    "* A default argument is a parameter that assumes a default value if a value is not provided in the function call for that argument.\n",
    "\n",
    "For example:"
   ]
  },
  {
   "cell_type": "code",
   "execution_count": null,
   "metadata": {},
   "outputs": [],
   "source": [
    "def myFun__preDefined_param(x, y=50): \n",
    "    print(\"x: \", x) \n",
    "    print(\"y: \", y)\n",
    "    "
   ]
  },
  {
   "cell_type": "markdown",
   "metadata": {},
   "source": [
    "## Question\n",
    "\n",
    "   ### myFun__preDefined_param(x=5, y=10) is equal to myFun__preDefined_param(y=10, x=5) ?\n",
    "   "
   ]
  },
  {
   "cell_type": "markdown",
   "metadata": {},
   "source": [
    "## Types of Funcs?\n",
    "\n",
    "* There are three types of functions in Python\n",
    "\n",
    "1) Built-in functions, such as help() to ask for help, min() to get the minimum value, print() to print an object to the terminal\n",
    "\n",
    "2) User-Defined Functions (UDFs), which are functions that users create to help them out\n",
    "\n",
    "3) Anonymous functions, which are also called lambda functions because they are not declared with the standard def keyword."
   ]
  },
  {
   "cell_type": "code",
   "execution_count": null,
   "metadata": {},
   "outputs": [],
   "source": [
    "cube = lambda x: x*x*x  \n",
    "print(cube(7))"
   ]
  },
  {
   "cell_type": "markdown",
   "metadata": {},
   "source": [
    "## Examples\n"
   ]
  },
  {
   "cell_type": "code",
   "execution_count": null,
   "metadata": {},
   "outputs": [],
   "source": [
    "#functions immediately exit when they come across a return statement\n",
    "def run():\n",
    "  for x in range(10):\n",
    "     if x == 2:\n",
    "       return\n",
    "  print(\"Run!\")\n",
    "  \n",
    "run()"
   ]
  },
  {
   "cell_type": "code",
   "execution_count": null,
   "metadata": {},
   "outputs": [],
   "source": [
    "def hello():\n",
    "  name = str(input(\"Enter your name: \"))\n",
    "  if name:\n",
    "    print (\"Hello \" + str(name))\n",
    "  else:\n",
    "    print(\"Hello World\") \n",
    "  return \n",
    "  \n",
    "hello()"
   ]
  },
  {
   "cell_type": "code",
   "execution_count": null,
   "metadata": {},
   "outputs": [],
   "source": [
    "#list of benefits multiple funcs\n",
    "def list_benefits():\n",
    "    return \"More organized code\", \"More readable code\", \"Easier code reuse\", \"Allowing programmers to share and connect code together\"\n",
    "    \n",
    "def build_sentence(benefit):\n",
    "    return \"%s is a benefit of functions!\" % benefit\n",
    "\n",
    "def name_the_benefits_of_functions():\n",
    "    list_of_benefits = list_benefits()\n",
    "    for benefit in list_of_benefits:\n",
    "        print(build_sentence(benefit))\n",
    "\n",
    "name_the_benefits_of_functions()"
   ]
  },
  {
   "cell_type": "markdown",
   "metadata": {},
   "source": [
    "## Library System:\n",
    "\n",
    "1) Menu.\n",
    "2) Add a book.\n",
    "    A book= Name, Author, YearofPublish, shelf, count\n",
    "3) Print the list of books and give total count.\n",
    "4) Search a book and give info of availability. \n",
    "5) Exit"
   ]
  },
  {
   "cell_type": "code",
   "execution_count": null,
   "metadata": {},
   "outputs": [],
   "source": [
    "\n",
    "def my_exit():\n",
    "    exit()\n",
    "\n",
    "def main():\n",
    "    \n",
    "    print(\"Welcome\")\n",
    "    \n",
    "    while(True):\n",
    "        print(\"Please choose an option\")\n",
    "        print(\"a - Add a book with infos\\nl - List all of books\")\n",
    "        print(\"s - Search a book\")\n",
    "        print(\"e - Exit\")\n",
    "        \n",
    "        chosen = input(\"Enter your selection: \")\n",
    "        \n",
    "        print(\"Your chose: {}\".format(chosen))\n",
    "        \n",
    "        if chosen == \"a\" or chosen == \"A\":\n",
    "            print(\"<-------- Adding a book -------->\")\n",
    "            \n",
    "            #Adding function which uses filesystem.\n",
    "            \n",
    "        elif chosen == \"l\":\n",
    "            print(\"<-------- List of books -------->\") \n",
    "            \n",
    "            #Listing function with count of all books.\n",
    "            \n",
    "        #Complete other menu options and give message for wrong entries.\n",
    "        \n",
    "        \n",
    "        #else:\n",
    "            #return\n",
    "        \n",
    "main()"
   ]
  },
  {
   "cell_type": "markdown",
   "metadata": {},
   "source": [
    "## Functions with Dataset\n",
    "* Kaggle Examples"
   ]
  },
  {
   "cell_type": "markdown",
   "metadata": {},
   "source": [
    "## Push To GitHub with Command Line \n",
    "\n",
    "cd repo\n",
    "cd ..\n",
    "\n",
    "echo\n",
    "\n",
    "git init\n",
    "git add\n",
    "git commit -m \"first commit\"\n",
    "git push -u origin master\n"
   ]
  }
 ],
 "metadata": {
  "kernelspec": {
   "display_name": "Python 3",
   "language": "python",
   "name": "python3"
  },
  "language_info": {
   "codemirror_mode": {
    "name": "ipython",
    "version": 3
   },
   "file_extension": ".py",
   "mimetype": "text/x-python",
   "name": "python",
   "nbconvert_exporter": "python",
   "pygments_lexer": "ipython3",
   "version": "3.7.4"
  }
 },
 "nbformat": 4,
 "nbformat_minor": 2
}
